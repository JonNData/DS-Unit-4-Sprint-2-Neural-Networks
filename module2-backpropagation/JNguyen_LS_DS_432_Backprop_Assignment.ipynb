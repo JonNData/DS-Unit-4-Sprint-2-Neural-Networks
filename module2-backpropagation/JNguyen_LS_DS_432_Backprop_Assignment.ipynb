{
  "nbformat": 4,
  "nbformat_minor": 0,
  "metadata": {
    "colab": {
      "name": "JNguyen LS_DS_432_Backprop_Assignment.ipynb",
      "provenance": [],
      "collapsed_sections": [],
      "include_colab_link": true
    },
    "kernelspec": {
      "display_name": "Python 3",
      "language": "python",
      "name": "python3"
    },
    "language_info": {
      "codemirror_mode": {
        "name": "ipython",
        "version": 3
      },
      "file_extension": ".py",
      "mimetype": "text/x-python",
      "name": "python",
      "nbconvert_exporter": "python",
      "pygments_lexer": "ipython3",
      "version": "3.7.3"
    },
    "nteract": {
      "version": "0.22.4"
    }
  },
  "cells": [
    {
      "cell_type": "markdown",
      "metadata": {
        "id": "view-in-github",
        "colab_type": "text"
      },
      "source": [
        "<a href=\"https://colab.research.google.com/github/JonNData/DS-Unit-4-Sprint-2-Neural-Networks/blob/master/module2-backpropagation/JNguyen_LS_DS_432_Backprop_Assignment.ipynb\" target=\"_parent\"><img src=\"https://colab.research.google.com/assets/colab-badge.svg\" alt=\"Open In Colab\"/></a>"
      ]
    },
    {
      "cell_type": "markdown",
      "metadata": {
        "colab_type": "text",
        "id": "NGGrt9EYlCqY"
      },
      "source": [
        "<img align=\"left\" src=\"https://lever-client-logos.s3.amazonaws.com/864372b1-534c-480e-acd5-9711f850815c-1524247202159.png\" width=200>\n",
        "<br></br>\n",
        "\n",
        "# Backpropagation Practice\n",
        "\n",
        "## *Data Science Unit 4 Sprint 2 Assignment 2*\n",
        "\n",
        "Using TensorFlow Keras, Implement a 3 input, 4 node hidden-layer, 1 output node Multilayer Perceptron on the following dataset:\n",
        "\n",
        "| x1 | x2 | x3 | y |\n",
        "|----|----|----|---|\n",
        "| 0  | 0  | 1  | 0 |\n",
        "| 0  | 1  | 1  | 1 |\n",
        "| 1  | 0  | 1  | 1 |\n",
        "| 0  | 1  | 0  | 1 |\n",
        "| 1  | 0  | 0  | 1 |\n",
        "| 1  | 1  | 1  | 0 |\n",
        "| 0  | 0  | 0  | 0 |\n",
        "\n",
        "If you look at the data you'll notice that the first two columns behave like an XOR gate while the last column is mostly just noise. Remember that creating an XOR gate was what the perceptron was criticized for not being able to learn.\n",
        "\n",
        "This is your \"Hello World!\" of TensorFlow.\n",
        "\n",
        "### Example TensorFlow Starter Code\n",
        "\n",
        "```python \n",
        "from tensorflow.keras.models import Sequential\n",
        "from tensorflow.keras.layers import Dense\n",
        "\n",
        "model = Sequential([\n",
        "    Dense(3, activation='sigmoid', input_dim=2),\n",
        "    Dense(1, activation='sigmoid')\n",
        "])\n",
        "\n",
        "model.compile(optimizer='sgd', loss='binary_crossentropy', metrics=['acc'])\n",
        "\n",
        "results = model.fit(X,y, epochs=100)\n",
        "\n",
        "```\n",
        "\n",
        "### Additional Written Tasks:\n",
        "1. Investigate the various [loss functions](https://www.tensorflow.org/api_docs/python/tf/keras/losses). Which is best suited for the task at hand (predicting 1 / 0) and why? \n",
        "2. What is the difference between a loss function and a metric? Why might we need both in Keras? \n",
        "3. Investigate the various [optimizers](https://www.tensorflow.org/api_docs/python/tf/keras/optimizers). Stochastic Gradient Descent (`sgd`) is not the learning algorithm dejour anyone. Why is that? What do newer optimizers such as `adam` have to offer? "
      ]
    },
    {
      "cell_type": "code",
      "metadata": {
        "id": "dohdlN5EU4RB",
        "colab_type": "code",
        "colab": {
          "base_uri": "https://localhost:8080/",
          "height": 266
        },
        "outputId": "10141e66-c349-4015-8845-3b2eb3e67300"
      },
      "source": [
        "import pandas as pd\n",
        "\n",
        "data = { 'x1': [0,0,1,0,1,1,0],\n",
        "         'x2': [0,1,0,1,0,1,0],\n",
        "         'x3': [1,1,1,0,0,1,0],\n",
        "         'y':  [0,1,1,0,1,0,0]\n",
        "       }\n",
        "\n",
        "df = pd.DataFrame.from_dict(data).astype('int')\n",
        "X = df[['x1', 'x2', 'x3']].values\n",
        "y = df['y'].values\n",
        "df"
      ],
      "execution_count": 7,
      "outputs": [
        {
          "output_type": "execute_result",
          "data": {
            "text/html": [
              "<div>\n",
              "<style scoped>\n",
              "    .dataframe tbody tr th:only-of-type {\n",
              "        vertical-align: middle;\n",
              "    }\n",
              "\n",
              "    .dataframe tbody tr th {\n",
              "        vertical-align: top;\n",
              "    }\n",
              "\n",
              "    .dataframe thead th {\n",
              "        text-align: right;\n",
              "    }\n",
              "</style>\n",
              "<table border=\"1\" class=\"dataframe\">\n",
              "  <thead>\n",
              "    <tr style=\"text-align: right;\">\n",
              "      <th></th>\n",
              "      <th>x1</th>\n",
              "      <th>x2</th>\n",
              "      <th>x3</th>\n",
              "      <th>y</th>\n",
              "    </tr>\n",
              "  </thead>\n",
              "  <tbody>\n",
              "    <tr>\n",
              "      <th>0</th>\n",
              "      <td>0</td>\n",
              "      <td>0</td>\n",
              "      <td>1</td>\n",
              "      <td>0</td>\n",
              "    </tr>\n",
              "    <tr>\n",
              "      <th>1</th>\n",
              "      <td>0</td>\n",
              "      <td>1</td>\n",
              "      <td>1</td>\n",
              "      <td>1</td>\n",
              "    </tr>\n",
              "    <tr>\n",
              "      <th>2</th>\n",
              "      <td>1</td>\n",
              "      <td>0</td>\n",
              "      <td>1</td>\n",
              "      <td>1</td>\n",
              "    </tr>\n",
              "    <tr>\n",
              "      <th>3</th>\n",
              "      <td>0</td>\n",
              "      <td>1</td>\n",
              "      <td>0</td>\n",
              "      <td>0</td>\n",
              "    </tr>\n",
              "    <tr>\n",
              "      <th>4</th>\n",
              "      <td>1</td>\n",
              "      <td>0</td>\n",
              "      <td>0</td>\n",
              "      <td>1</td>\n",
              "    </tr>\n",
              "    <tr>\n",
              "      <th>5</th>\n",
              "      <td>1</td>\n",
              "      <td>1</td>\n",
              "      <td>1</td>\n",
              "      <td>0</td>\n",
              "    </tr>\n",
              "    <tr>\n",
              "      <th>6</th>\n",
              "      <td>0</td>\n",
              "      <td>0</td>\n",
              "      <td>0</td>\n",
              "      <td>0</td>\n",
              "    </tr>\n",
              "  </tbody>\n",
              "</table>\n",
              "</div>"
            ],
            "text/plain": [
              "   x1  x2  x3  y\n",
              "0   0   0   1  0\n",
              "1   0   1   1  1\n",
              "2   1   0   1  1\n",
              "3   0   1   0  0\n",
              "4   1   0   0  1\n",
              "5   1   1   1  0\n",
              "6   0   0   0  0"
            ]
          },
          "metadata": {
            "tags": []
          },
          "execution_count": 7
        }
      ]
    },
    {
      "cell_type": "code",
      "metadata": {
        "id": "ga_ktrn6WrGM",
        "colab_type": "code",
        "colab": {
          "base_uri": "https://localhost:8080/",
          "height": 34
        },
        "outputId": "d24752b1-a533-4a7a-baff-08b9ac480c99"
      },
      "source": [
        "X.shape, y.shape "
      ],
      "execution_count": 10,
      "outputs": [
        {
          "output_type": "execute_result",
          "data": {
            "text/plain": [
              "((7, 3), (7,))"
            ]
          },
          "metadata": {
            "tags": []
          },
          "execution_count": 10
        }
      ]
    },
    {
      "cell_type": "code",
      "metadata": {
        "id": "KWOzrE7vdspL",
        "colab_type": "code",
        "colab": {}
      },
      "source": [
        "X[0].shape"
      ],
      "execution_count": 0,
      "outputs": []
    },
    {
      "cell_type": "code",
      "metadata": {
        "colab_type": "code",
        "id": "nEREYT-3wI1f",
        "outputId": "dff56392-3bb3-47e4-a75b-d53309ef5ce1",
        "colab": {
          "base_uri": "https://localhost:8080/",
          "height": 697
        }
      },
      "source": [
        "from tensorflow.keras.models import Sequential\n",
        "from tensorflow.keras.layers import Dense\n",
        " \n",
        "model = Sequential()\n",
        "\n",
        "model.add(Dense(4, input_shape=(3,), activation='relu'))\n",
        "model.add(Dense(1, activation='sigmoid'))\n",
        " \n",
        "model.compile(optimizer='sgd', loss='binary_crossentropy', metrics=['binary_accuracy'])\n",
        " \n",
        "results = model.fit(X,y, epochs=20)"
      ],
      "execution_count": 28,
      "outputs": [
        {
          "output_type": "stream",
          "text": [
            "Epoch 1/20\n",
            "1/1 [==============================] - 0s 1ms/step - loss: 0.7918 - binary_accuracy: 0.5714\n",
            "Epoch 2/20\n",
            "1/1 [==============================] - 0s 1ms/step - loss: 0.7914 - binary_accuracy: 0.5714\n",
            "Epoch 3/20\n",
            "1/1 [==============================] - 0s 1ms/step - loss: 0.7910 - binary_accuracy: 0.5714\n",
            "Epoch 4/20\n",
            "1/1 [==============================] - 0s 2ms/step - loss: 0.7906 - binary_accuracy: 0.5714\n",
            "Epoch 5/20\n",
            "1/1 [==============================] - 0s 1ms/step - loss: 0.7902 - binary_accuracy: 0.5714\n",
            "Epoch 6/20\n",
            "1/1 [==============================] - 0s 2ms/step - loss: 0.7898 - binary_accuracy: 0.5714\n",
            "Epoch 7/20\n",
            "1/1 [==============================] - 0s 2ms/step - loss: 0.7894 - binary_accuracy: 0.5714\n",
            "Epoch 8/20\n",
            "1/1 [==============================] - 0s 2ms/step - loss: 0.7890 - binary_accuracy: 0.5714\n",
            "Epoch 9/20\n",
            "1/1 [==============================] - 0s 1ms/step - loss: 0.7886 - binary_accuracy: 0.5714\n",
            "Epoch 10/20\n",
            "1/1 [==============================] - 0s 2ms/step - loss: 0.7882 - binary_accuracy: 0.5714\n",
            "Epoch 11/20\n",
            "1/1 [==============================] - 0s 1ms/step - loss: 0.7878 - binary_accuracy: 0.5714\n",
            "Epoch 12/20\n",
            "1/1 [==============================] - 0s 2ms/step - loss: 0.7874 - binary_accuracy: 0.5714\n",
            "Epoch 13/20\n",
            "1/1 [==============================] - 0s 2ms/step - loss: 0.7870 - binary_accuracy: 0.5714\n",
            "Epoch 14/20\n",
            "1/1 [==============================] - 0s 2ms/step - loss: 0.7866 - binary_accuracy: 0.5714\n",
            "Epoch 15/20\n",
            "1/1 [==============================] - 0s 1ms/step - loss: 0.7863 - binary_accuracy: 0.5714\n",
            "Epoch 16/20\n",
            "1/1 [==============================] - 0s 1ms/step - loss: 0.7859 - binary_accuracy: 0.5714\n",
            "Epoch 17/20\n",
            "1/1 [==============================] - 0s 1ms/step - loss: 0.7855 - binary_accuracy: 0.5714\n",
            "Epoch 18/20\n",
            "1/1 [==============================] - 0s 2ms/step - loss: 0.7851 - binary_accuracy: 0.5714\n",
            "Epoch 19/20\n",
            "1/1 [==============================] - 0s 1ms/step - loss: 0.7848 - binary_accuracy: 0.5714\n",
            "Epoch 20/20\n",
            "1/1 [==============================] - 0s 1ms/step - loss: 0.7844 - binary_accuracy: 0.5714\n"
          ],
          "name": "stdout"
        }
      ]
    },
    {
      "cell_type": "markdown",
      "metadata": {
        "id": "swwaGTPDT8oF",
        "colab_type": "text"
      },
      "source": [
        "### Build a Tensor Keras Perceptron\n",
        "\n",
        "Try to match the architecture we used on Monday - inputs nodes and one output node. Apply this architecture to the XOR-ish dataset above. \n",
        "\n",
        "After fitting your model answer these questions: \n",
        "\n",
        "Are you able to achieve the same results as a bigger architecture from the first part of the assignment? Why is this disparity the case? What properties of the XOR dataset would cause this disparity? \n",
        "\n",
        "Now extrapolate this behavior on a much larger dataset in terms of features. What kind of architecture decisions could we make to avoid the problems the XOR dataset presents at scale? \n",
        "\n",
        "*Note:* The bias term is baked in by default in the Dense layer."
      ]
    },
    {
      "cell_type": "code",
      "metadata": {
        "id": "XzG9St3vT8oG",
        "colab_type": "code",
        "colab": {
          "base_uri": "https://localhost:8080/",
          "height": 204
        },
        "outputId": "84e6ff01-83d6-47f6-b304-726c0c38d09d"
      },
      "source": [
        "# This is our perceptron from Monday's by-hand: \n",
        "model = Sequential()\n",
        "model.add(Dense(1,input_dim=3, activation='sigmoid'))\n",
        "model.compile(loss='binary_crossentropy', optimizer='adam', metrics=['accuracy'])\n",
        "model.fit(X,y, epochs=5)"
      ],
      "execution_count": 29,
      "outputs": [
        {
          "output_type": "stream",
          "text": [
            "Epoch 1/5\n",
            "1/1 [==============================] - 0s 1ms/step - loss: 0.7662 - accuracy: 0.4286\n",
            "Epoch 2/5\n",
            "1/1 [==============================] - 0s 2ms/step - loss: 0.7658 - accuracy: 0.2857\n",
            "Epoch 3/5\n",
            "1/1 [==============================] - 0s 2ms/step - loss: 0.7654 - accuracy: 0.2857\n",
            "Epoch 4/5\n",
            "1/1 [==============================] - 0s 2ms/step - loss: 0.7650 - accuracy: 0.2857\n",
            "Epoch 5/5\n",
            "1/1 [==============================] - 0s 2ms/step - loss: 0.7646 - accuracy: 0.2857\n"
          ],
          "name": "stdout"
        },
        {
          "output_type": "execute_result",
          "data": {
            "text/plain": [
              "<tensorflow.python.keras.callbacks.History at 0x7fda37739c18>"
            ]
          },
          "metadata": {
            "tags": []
          },
          "execution_count": 29
        }
      ]
    },
    {
      "cell_type": "markdown",
      "metadata": {
        "id": "xnCouQc7prJD",
        "colab_type": "text"
      },
      "source": [
        "## Not as good, because can't learn from XOR gate, lack of hidden layer weights to adjust"
      ]
    },
    {
      "cell_type": "markdown",
      "metadata": {
        "colab_type": "text",
        "id": "8b-r70o8p2Dm"
      },
      "source": [
        "## Try building/training a more complex MLP on a bigger dataset.\n",
        "\n",
        "Use TensorFlow Keras & the [MNIST dataset](http://yann.lecun.com/exdb/mnist/) to build the canonical handwriting digit recognizer and see what kind of accuracy you can achieve. \n",
        "\n",
        "If you need inspiration, the Internet is chalk-full of tutorials, but I want you to see how far you can get on your own first. I've linked to the original MNIST dataset above but it will probably be easier to download data through a neural network library. If you reference outside resources make sure you understand every line of code that you're using from other sources, and share with your fellow students helpful resources that you find.\n",
        "\n",
        "\n",
        "### Parts\n",
        "1. Gathering & Transforming the Data\n",
        "2. Making MNIST a Binary Problem\n",
        "3. Estimating your Neural Network (the part you focus on)"
      ]
    },
    {
      "cell_type": "markdown",
      "metadata": {
        "id": "OSwpzOWST8oJ",
        "colab_type": "text"
      },
      "source": [
        "### Gathering the Data \n",
        "\n",
        "`keras` has a handy method to pull the mnist dataset for you. You'll notice that each observation is a 28x28 arrary which represents an image. Although most Neural Network frameworks can handle higher dimensional data, that is more overhead than necessary for us. We need to flatten the image to one long row which will be 784 values (28X28). Basically, you will be appending each row to one another to make on really long row. "
      ]
    },
    {
      "cell_type": "code",
      "metadata": {
        "id": "3z7cKU0tT8oJ",
        "colab_type": "code",
        "colab": {}
      },
      "source": [
        "import numpy as np\n",
        "from tensorflow.keras.datasets import mnist\n",
        "from tensorflow.keras.utils import to_categorical"
      ],
      "execution_count": 0,
      "outputs": []
    },
    {
      "cell_type": "code",
      "metadata": {
        "id": "jdLkZzw-T8oM",
        "colab_type": "code",
        "colab": {}
      },
      "source": [
        "# input image dimensions\n",
        "img_rows, img_cols = 28, 28"
      ],
      "execution_count": 0,
      "outputs": []
    },
    {
      "cell_type": "code",
      "metadata": {
        "id": "Nuy-6woTT8oO",
        "colab_type": "code",
        "colab": {
          "base_uri": "https://localhost:8080/",
          "height": 51
        },
        "outputId": "f65603ee-1264-4d71-b3db-90a9e65d4aa2"
      },
      "source": [
        "# the data, split between train and test sets\n",
        "(x_train, y_train), (x_test, y_test) = mnist.load_data()"
      ],
      "execution_count": 32,
      "outputs": [
        {
          "output_type": "stream",
          "text": [
            "Downloading data from https://storage.googleapis.com/tensorflow/tf-keras-datasets/mnist.npz\n",
            "11493376/11490434 [==============================] - 0s 0us/step\n"
          ],
          "name": "stdout"
        }
      ]
    },
    {
      "cell_type": "code",
      "metadata": {
        "id": "vNF_0sunT8oR",
        "colab_type": "code",
        "colab": {}
      },
      "source": [
        "x_train = x_train.reshape(x_train.shape[0], img_rows * img_cols)\n",
        "x_test = x_test.reshape(x_test.shape[0], img_rows * img_cols)\n",
        "\n",
        "# Normalize Our Data\n",
        "x_train = x_train / 255\n",
        "x_test = x_test / 255"
      ],
      "execution_count": 0,
      "outputs": []
    },
    {
      "cell_type": "code",
      "metadata": {
        "id": "DggcjYI9T8oU",
        "colab_type": "code",
        "outputId": "30f9be41-de48-4f86-8588-e2ae5705ca4d",
        "colab": {
          "base_uri": "https://localhost:8080/",
          "height": 34
        }
      },
      "source": [
        "# Now the data should be in a format you're more familiar with\n",
        "x_train[0].shape"
      ],
      "execution_count": 42,
      "outputs": [
        {
          "output_type": "execute_result",
          "data": {
            "text/plain": [
              "(784,)"
            ]
          },
          "metadata": {
            "tags": []
          },
          "execution_count": 42
        }
      ]
    },
    {
      "cell_type": "markdown",
      "metadata": {
        "id": "pV3mODr0T8oX",
        "colab_type": "text"
      },
      "source": [
        "### Making MNIST a Binary Problem \n",
        "MNIST is multiclass classification problem; however we haven't covered all the necessary techniques to handle this yet. You would need to one-hot encode the target, use a different loss metric, and use softmax activations for the last layer. This is all stuff we'll cover later this week, but let us simplify the problem for now: Zero or all else."
      ]
    },
    {
      "cell_type": "code",
      "metadata": {
        "id": "nAySwMBbT8oY",
        "colab_type": "code",
        "colab": {}
      },
      "source": [
        "import numpy as np\n",
        "\n",
        "y_temp = np.zeros(y_train.shape)\n",
        "y_temp[np.where(y_train == 0.0)[0]] = 1\n",
        "y_train = y_temp\n",
        "\n",
        "y_temp = np.zeros(y_test.shape)\n",
        "y_temp[np.where(y_test == 0.0)[0]] = 1\n",
        "y_test = y_temp"
      ],
      "execution_count": 0,
      "outputs": []
    },
    {
      "cell_type": "code",
      "metadata": {
        "id": "yP9u8WEGT8oc",
        "colab_type": "code",
        "outputId": "aad79741-06ff-4af2-8615-85313f65c15e",
        "colab": {
          "base_uri": "https://localhost:8080/",
          "height": 34
        }
      },
      "source": [
        "# A Nice Binary target for ya to work with\n",
        "y_train"
      ],
      "execution_count": 37,
      "outputs": [
        {
          "output_type": "execute_result",
          "data": {
            "text/plain": [
              "array([0., 1., 0., ..., 0., 0., 0.])"
            ]
          },
          "metadata": {
            "tags": []
          },
          "execution_count": 37
        }
      ]
    },
    {
      "cell_type": "markdown",
      "metadata": {
        "id": "a2RRRCqhT8oe",
        "colab_type": "text"
      },
      "source": [
        "### Estimating Your `net"
      ]
    },
    {
      "cell_type": "code",
      "metadata": {
        "colab_type": "code",
        "id": "5MOPtYdk1HgA",
        "colab": {
          "base_uri": "https://localhost:8080/",
          "height": 697
        },
        "outputId": "b56c0cc0-6801-4fe2-86c9-8ac87a16403a"
      },
      "source": [
        "##### Your Code Here #####\n",
        "from tensorflow.keras.models import Sequential\n",
        "from tensorflow.keras.layers import Dense\n",
        " \n",
        "model = Sequential()\n",
        "\n",
        "model.add(Dense(4, input_shape=(784,), activation='relu'))\n",
        "model.add(Dense(1, activation='sigmoid'))\n",
        " \n",
        "model.compile(optimizer='nadam', loss='binary_crossentropy', metrics=['binary_accuracy'])\n",
        " \n",
        "results = model.fit(x_train,y_train, epochs=20)"
      ],
      "execution_count": 45,
      "outputs": [
        {
          "output_type": "stream",
          "text": [
            "Epoch 1/20\n",
            "1875/1875 [==============================] - 2s 1ms/step - loss: 0.0849 - binary_accuracy: 0.9813\n",
            "Epoch 2/20\n",
            "1875/1875 [==============================] - 2s 1ms/step - loss: 0.0423 - binary_accuracy: 0.9927\n",
            "Epoch 3/20\n",
            "1875/1875 [==============================] - 2s 1ms/step - loss: 0.0283 - binary_accuracy: 0.9937\n",
            "Epoch 4/20\n",
            "1875/1875 [==============================] - 2s 1ms/step - loss: 0.0211 - binary_accuracy: 0.9954\n",
            "Epoch 5/20\n",
            "1875/1875 [==============================] - 2s 1ms/step - loss: 0.0172 - binary_accuracy: 0.9960\n",
            "Epoch 6/20\n",
            "1875/1875 [==============================] - 2s 1ms/step - loss: 0.0143 - binary_accuracy: 0.9964\n",
            "Epoch 7/20\n",
            "1875/1875 [==============================] - 2s 1ms/step - loss: 0.0129 - binary_accuracy: 0.9966\n",
            "Epoch 8/20\n",
            "1875/1875 [==============================] - 2s 1ms/step - loss: 0.0114 - binary_accuracy: 0.9968\n",
            "Epoch 9/20\n",
            "1875/1875 [==============================] - 2s 1ms/step - loss: 0.0108 - binary_accuracy: 0.9969\n",
            "Epoch 10/20\n",
            "1875/1875 [==============================] - 2s 1ms/step - loss: 0.0098 - binary_accuracy: 0.9972\n",
            "Epoch 11/20\n",
            "1875/1875 [==============================] - 2s 1ms/step - loss: 0.0090 - binary_accuracy: 0.9975\n",
            "Epoch 12/20\n",
            "1875/1875 [==============================] - 2s 1ms/step - loss: 0.0087 - binary_accuracy: 0.9974\n",
            "Epoch 13/20\n",
            "1875/1875 [==============================] - 2s 1ms/step - loss: 0.0079 - binary_accuracy: 0.9978\n",
            "Epoch 14/20\n",
            "1875/1875 [==============================] - 2s 1ms/step - loss: 0.0075 - binary_accuracy: 0.9977\n",
            "Epoch 15/20\n",
            "1875/1875 [==============================] - 3s 1ms/step - loss: 0.0069 - binary_accuracy: 0.9981\n",
            "Epoch 16/20\n",
            "1875/1875 [==============================] - 3s 1ms/step - loss: 0.0066 - binary_accuracy: 0.9980\n",
            "Epoch 17/20\n",
            "1875/1875 [==============================] - 3s 1ms/step - loss: 0.0063 - binary_accuracy: 0.9982\n",
            "Epoch 18/20\n",
            "1875/1875 [==============================] - 2s 1ms/step - loss: 0.0059 - binary_accuracy: 0.9983\n",
            "Epoch 19/20\n",
            "1875/1875 [==============================] - 2s 1ms/step - loss: 0.0056 - binary_accuracy: 0.9984\n",
            "Epoch 20/20\n",
            "1875/1875 [==============================] - 2s 1ms/step - loss: 0.0054 - binary_accuracy: 0.9985\n"
          ],
          "name": "stdout"
        }
      ]
    },
    {
      "cell_type": "code",
      "metadata": {
        "id": "OkHU2Mrry4RY",
        "colab_type": "code",
        "colab": {}
      },
      "source": [
        ""
      ],
      "execution_count": 0,
      "outputs": []
    },
    {
      "cell_type": "markdown",
      "metadata": {
        "colab_type": "text",
        "id": "FwlRJSfBlCvy"
      },
      "source": [
        "## Stretch Goals: \n",
        "\n",
        "- Make MNIST a multiclass problem using cross entropy & soft-max\n",
        "- Implement Cross Validation model evaluation on your MNIST implementation \n",
        "- Research different [Gradient Descent Based Optimizers](https://keras.io/optimizers/)\n",
        " - [Siraj Raval the evolution of gradient descent](https://www.youtube.com/watch?v=nhqo0u1a6fw)\n",
        "- Build a housing price estimation model using a neural network. How does its accuracy compare with the regression models that we fit earlier on in class?"
      ]
    }
  ]
}